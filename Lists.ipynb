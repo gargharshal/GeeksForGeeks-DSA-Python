{
 "cells": [
  {
   "cell_type": "code",
   "execution_count": 29,
   "id": "61caef64-4d3e-4933-919c-dc119dd04cfe",
   "metadata": {},
   "outputs": [],
   "source": [
    "list1 = [1, 2, 3, 4, 5, 9, 9, 8, 9, 6, 7]"
   ]
  },
  {
   "cell_type": "code",
   "execution_count": 1,
   "id": "d7e69744-5b39-426e-b6e1-ae40a1842d44",
   "metadata": {},
   "outputs": [],
   "source": [
    "# Largset in the list\n",
    "def max1(list1):\n",
    "    if len(list1) == 0:\n",
    "        return None\n",
    "    max = list1[0]\n",
    "    for i in list[1:]:\n",
    "        if i>max:\n",
    "            max=i\n",
    "    return max\n",
    "max1([])\n"
   ]
  },
  {
   "cell_type": "code",
   "execution_count": 9,
   "id": "5717366f-7049-4d53-8c53-e7bce7803f8d",
   "metadata": {},
   "outputs": [],
   "source": [
    "# Second largest in the list\n",
    "\n",
    "# mine, not sure\n",
    "def sec_max(listx):\n",
    "    if len(listx) < 2:\n",
    "        return None \n",
    "    max1 = listx[0]\n",
    "    max2 = listx[1]\n",
    "    for i in range(len(listx) - 1):\n",
    "        if max1 < listx[i+1]:\n",
    "            max1, max2 = listx[i+1], max1\n",
    "        elif max2 < listx[i+1]:\n",
    "            max2 = listx[i+1]\n",
    "        elif max1 == max2:\n",
    "            max2 = listx[i+1]\n",
    "\n",
    "    if max1 == max2:\n",
    "        return None\n",
    "    return max2\n",
    "\n",
    "# proven course method\n",
    "def getSecMax(l):\n",
    "    if len(l) <= 1:\n",
    "        return None\n",
    "    lar = l[0]\n",
    "    slar = None\n",
    "    for x in l[1:]:\n",
    "        if x > lar:\n",
    "            slar, lar = lar, x\n",
    "        elif x!=lar:\n",
    "            if slar==None or slar<x:\n",
    "                slar=x\n",
    "    return slar"
   ]
  },
  {
   "cell_type": "code",
   "execution_count": 10,
   "metadata": {},
   "outputs": [
    {
     "output_type": "stream",
     "name": "stdout",
     "text": [
      "5\n"
     ]
    }
   ],
   "source": [
    "print(sec_max([6, 6, 5]))"
   ]
  },
  {
   "cell_type": "code",
   "execution_count": 11,
   "metadata": {},
   "outputs": [
    {
     "output_type": "error",
     "ename": "NameError",
     "evalue": "name 'list1' is not defined",
     "traceback": [
      "\u001b[1;31m---------------------------------------------------------------------------\u001b[0m",
      "\u001b[1;31mNameError\u001b[0m                                 Traceback (most recent call last)",
      "\u001b[1;32m<ipython-input-11-c19e3d7e09b7>\u001b[0m in \u001b[0;36m<module>\u001b[1;34m\u001b[0m\n\u001b[1;32m----> 1\u001b[1;33m \u001b[0mlist1\u001b[0m\u001b[1;33m.\u001b[0m\u001b[0msort\u001b[0m\u001b[1;33m(\u001b[0m\u001b[1;33m)\u001b[0m \u001b[1;31m# sorts the original list\u001b[0m\u001b[1;33m\u001b[0m\u001b[1;33m\u001b[0m\u001b[0m\n\u001b[0m\u001b[0;32m      2\u001b[0m \u001b[0msorted\u001b[0m\u001b[1;33m(\u001b[0m\u001b[0mlist1\u001b[0m\u001b[1;33m)\u001b[0m \u001b[1;31m# creates a new list\u001b[0m\u001b[1;33m\u001b[0m\u001b[1;33m\u001b[0m\u001b[0m\n",
      "\u001b[1;31mNameError\u001b[0m: name 'list1' is not defined"
     ]
    }
   ],
   "source": [
    "list1.sort() # sorts the original list\n",
    "sorted(list1) # creates a new list"
   ]
  },
  {
   "source": [
    "Find the only odd\n",
    " - use bitwise operator **XOR**\n",
    " - bitwise of 2 same number is 0\n",
    " - bitwise of a number and zero is number it self"
   ],
   "cell_type": "markdown",
   "metadata": {}
  },
  {
   "cell_type": "code",
   "execution_count": 14,
   "metadata": {},
   "outputs": [],
   "source": [
    "l = [10, 20, 30, 30, 20]\n",
    "\n",
    "def findOdd(l):\n",
    "    res = 0\n",
    "    for x in l:\n",
    "        res = res^x\n",
    "    return res"
   ]
  },
  {
   "cell_type": "code",
   "execution_count": null,
   "metadata": {},
   "outputs": [],
   "source": []
  }
 ],
 "metadata": {
  "kernelspec": {
   "name": "python388jvsc74a57bd0bf7f803c3cf389d271641452716cd22e8842a25a973c6285731a4e25d10f967d",
   "display_name": "Python 3.8.8 64-bit ('base': conda)"
  },
  "language_info": {
   "codemirror_mode": {
    "name": "ipython",
    "version": 3
   },
   "file_extension": ".py",
   "mimetype": "text/x-python",
   "name": "python",
   "nbconvert_exporter": "python",
   "pygments_lexer": "ipython3",
   "version": "3.8.8"
  }
 },
 "nbformat": 4,
 "nbformat_minor": 5
}