{
 "metadata": {
  "language_info": {
   "codemirror_mode": {
    "name": "ipython",
    "version": 3
   },
   "file_extension": ".py",
   "mimetype": "text/x-python",
   "name": "python",
   "nbconvert_exporter": "python",
   "pygments_lexer": "ipython3",
   "version": 3
  },
  "orig_nbformat": 2
 },
 "nbformat": 4,
 "nbformat_minor": 2,
 "cells": [
  {
   "source": [
    "## Hashing\n",
    "\n",
    "- All unique values\n",
    "- If the key exists it will be overwritten\n",
    "---\n",
    "Not good for | Better option\n",
    "--|--\n",
    "Finding closet values        | AVL/Red Black Tree  \n",
    "Sorted Data | AVL/Red Black Tree\n",
    "Prefix Searching | Tree\n",
    "---\n",
    "### Application of Hashing\n",
    "- Dictionary\n",
    "- Database Indexing\n",
    "- Cryptography\n",
    "- Cache\n",
    "- Symbol Tables in Compilers/Interpreters\n",
    "- Routers\n",
    "- Getting data from Database\n",
    "- Many More\n",
    "---\n",
    "- should always map a larga key to same small key\n",
    "- if m training Examples, should generate values from 0 to m-1\n",
    "- Should be fast, O(1) for intergers and O(len) for strings of length len\n",
    "- Should uniformaly distribute large keys into Hash tabels slots.\n",
    "---\n",
    "### Examples hash Functions\n",
    "- h(large_key) = large_key % m, might result in same value (called collision)  \n",
    "`m = 200, # ideally, howeever, m is a prime number close to 200`\n",
    "- for strings, weighted sum  \n",
    "```python  \n",
    "str[] = 'abcd'  \n",
    "(str[0]*x^0 + str[1]*x^1 + str[2]*x^2 + str[3]*x^3)%m # taking modulus\n",
    "```\n",
    "- Universal Hashing\n",
    "    - Randomly pick a hash function every time from the set of hashing functions\n",
    "---\n",
    "### Collision Handling\n",
    "\n",
    "- If we know keys in advance, then we can use `perfect hashing`. \n",
    "- If we don't know, the we use one of the following. (collision are bound to happen)\n",
    "    - Chaining (Chain the colliding items) \n",
    "    - Open Addressing  \n",
    "        - Linear Probling  \n",
    "        - Quadratic Probling  \n",
    "        - Double Hashing  \n",
    "\n"
   ],
   "cell_type": "markdown",
   "metadata": {}
  },
  {
   "cell_type": "code",
   "execution_count": null,
   "metadata": {},
   "outputs": [],
   "source": [
    "\n"
   ]
  }
 ]
}