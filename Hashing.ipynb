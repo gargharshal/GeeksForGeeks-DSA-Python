{
 "metadata": {
  "language_info": {
   "codemirror_mode": {
    "name": "ipython",
    "version": 3
   },
   "file_extension": ".py",
   "mimetype": "text/x-python",
   "name": "python",
   "nbconvert_exporter": "python",
   "pygments_lexer": "ipython3",
   "version": 3
  },
  "orig_nbformat": 2
 },
 "nbformat": 4,
 "nbformat_minor": 2,
 "cells": [
  {
   "source": [
    "## Hashing\n",
    "\n",
    "- All unique values\n",
    "- If the key exists it will be overwritten\n",
    "---\n",
    "Not good for | Better option\n",
    "--|--\n",
    "Finding closet values        | AVL/Red Black Tree  \n",
    "Sorted Data | AVL/Red Black Tree\n",
    "Prefix Searching | Tree"
   ],
   "cell_type": "markdown",
   "metadata": {}
  },
  {
   "cell_type": "code",
   "execution_count": null,
   "metadata": {},
   "outputs": [],
   "source": [
    "\n"
   ]
  }
 ]
}