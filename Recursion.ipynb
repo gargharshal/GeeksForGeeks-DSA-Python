{
 "metadata": {
  "language_info": {
   "codemirror_mode": {
    "name": "ipython",
    "version": 3
   },
   "file_extension": ".py",
   "mimetype": "text/x-python",
   "name": "python",
   "nbconvert_exporter": "python",
   "pygments_lexer": "ipython3",
   "version": "3.8.8"
  },
  "orig_nbformat": 4,
  "kernelspec": {
   "name": "python3",
   "display_name": "Python 3.8.8 64-bit ('base': conda)"
  },
  "interpreter": {
   "hash": "bf7f803c3cf389d271641452716cd22e8842a25a973c6285731a4e25d10f967d"
  }
 },
 "nbformat": 4,
 "nbformat_minor": 2,
 "cells": [
  {
   "source": [
    "## Recursion\n",
    "\n",
    "- When a function calls itself (diretly or indirectly)\n",
    "\n",
    "```python\n",
    "def fun():\n",
    "    print('gfg')\n",
    "    fun()\n",
    "```\n",
    "**Execution Flow** \n",
    "- managed by function call stack \n",
    "- stack because the function executed last finishes first\n",
    "- the memory allocated to this stack will be filled and it will through an error\n",
    "\n",
    "- fun\n",
    "    - print(\"gfg\")\n",
    "    - fun \n",
    "        - print('gfg')\n",
    "        - fun\n",
    "            - so on\n",
    "\n",
    "output - \n",
    "gfg\n",
    "gfg\n",
    ".\n",
    ".\n",
    "Recursion Error\n",
    "\n",
    "---\n",
    "\n",
    "### Application of Recursion\n",
    "\n",
    "- Many Algo tech are baed on recusrion\n",
    "    - Dynamic Programming\n",
    "    - Backtracking\n",
    "    - Divide and conquer (binary search, quick search and merge sort)\n",
    "- Many problems inherently recursive\n",
    "    - Tower of Hanoi\n",
    "    - DFS based traversal (DFS of Graph and inorder/preorder/postorder traversal of tree)\n",
    "  \n"
   ],
   "cell_type": "markdown",
   "metadata": {}
  },
  {
   "cell_type": "code",
   "execution_count": 1,
   "metadata": {},
   "outputs": [],
   "source": [
    "def fun(n):\n",
    "    if n == 0:\n",
    "        return\n",
    "    fun(n-1)\n",
    "    print(n)\n",
    "    fun(n-1)"
   ]
  },
  {
   "cell_type": "code",
   "execution_count": 2,
   "metadata": {},
   "outputs": [
    {
     "output_type": "stream",
     "name": "stdout",
     "text": [
      "1\n2\n1\n3\n1\n2\n1\n"
     ]
    }
   ],
   "source": [
    "fun(3)"
   ]
  },
  {
   "cell_type": "code",
   "execution_count": 3,
   "metadata": {},
   "outputs": [],
   "source": [
    "# sum of digits\n",
    "def sumDigit(n):\n",
    "    if n<= 9:\n",
    "        return n\n",
    "    return sumDigit(n//10) + n%10"
   ]
  },
  {
   "cell_type": "code",
   "execution_count": 4,
   "metadata": {},
   "outputs": [
    {
     "output_type": "execute_result",
     "data": {
      "text/plain": [
       "6"
      ]
     },
     "metadata": {},
     "execution_count": 4
    }
   ],
   "source": [
    "sumDigit(123)"
   ]
  },
  {
   "cell_type": "code",
   "execution_count": 7,
   "metadata": {},
   "outputs": [],
   "source": [
    "# Tower of Hanoi\n",
    "def towerOfHanoi(n, a, b, c):\n",
    "    if n==1:\n",
    "        print(f'move 1 from {a} to {c}')\n",
    "    else:\n",
    "        towerOfHanoi(n-1, a, c, b)\n",
    "        print(f'move {n} from {a} to {c}')\n",
    "        towerOfHanoi(n-1, b, a, c)"
   ]
  },
  {
   "cell_type": "code",
   "execution_count": 12,
   "metadata": {},
   "outputs": [
    {
     "output_type": "stream",
     "name": "stdout",
     "text": [
      "move 1 from a to c\nmove 2 from a to b\nmove 1 from c to b\nmove 3 from a to c\nmove 1 from b to a\nmove 2 from b to c\nmove 1 from a to c\n"
     ]
    }
   ],
   "source": [
    "towerOfHanoi(3, 'a', 'b', 'c')"
   ]
  },
  {
   "cell_type": "code",
   "execution_count": 12,
   "metadata": {},
   "outputs": [],
   "source": [
    "# Python code for Josephus Problem\n",
    "\n",
    "def josephus(n, k):\n",
    " \n",
    "    if (n == 1):\n",
    "        return 1\n",
    "    else:\n",
    "      return (josephus(n - 1, k) + k-1) % n + 1"
   ]
  },
  {
   "cell_type": "code",
   "execution_count": 34,
   "metadata": {},
   "outputs": [
    {
     "output_type": "execute_result",
     "data": {
      "text/plain": [
       "4"
      ]
     },
     "metadata": {},
     "execution_count": 34
    }
   ],
   "source": [
    "josephus(5, 3) "
   ]
  },
  {
   "cell_type": "code",
   "execution_count": 45,
   "metadata": {},
   "outputs": [],
   "source": [
    "def fibonacci(n):\n",
    "    #code here\n",
    "    if n in [1, 2]:\n",
    "        return 1\n",
    "    return (fibonacci(n-1) + fibonacci(n-2))"
   ]
  },
  {
   "cell_type": "code",
   "execution_count": 47,
   "metadata": {},
   "outputs": [
    {
     "output_type": "execute_result",
     "data": {
      "text/plain": [
       "6765"
      ]
     },
     "metadata": {},
     "execution_count": 47
    }
   ],
   "source": [
    "fibonacci(20)"
   ]
  },
  {
   "cell_type": "code",
   "execution_count": 50,
   "metadata": {},
   "outputs": [],
   "source": [
    "def GCD(a,b):\n",
    "    #code here\n",
    "    if a == 0:\n",
    "        return b\n",
    "    if b == 0:\n",
    "        return a\n",
    "    return GCD(b, a%b)"
   ]
  },
  {
   "cell_type": "code",
   "execution_count": 52,
   "metadata": {},
   "outputs": [
    {
     "output_type": "execute_result",
     "data": {
      "text/plain": [
       "5"
      ]
     },
     "metadata": {},
     "execution_count": 52
    }
   ],
   "source": [
    "GCD(35, 15)"
   ]
  },
  {
   "cell_type": "code",
   "execution_count": 62,
   "metadata": {},
   "outputs": [],
   "source": [
    "def printArrayRecursively(arr,n):\n",
    "    #code here\n",
    "    if n == 1:\n",
    "        return str(arr[0])\n",
    "    return str(arr[n-1]) + ' ' + printArrayRecursively(arr[:n-1],n-1)"
   ]
  },
  {
   "cell_type": "code",
   "execution_count": 63,
   "metadata": {},
   "outputs": [
    {
     "output_type": "execute_result",
     "data": {
      "text/plain": [
       "'6 5 4 3 1'"
      ]
     },
     "metadata": {},
     "execution_count": 63
    }
   ],
   "source": [
    "printArrayRecursively([1, 3, 4, 5 ,6 ], 5)"
   ]
  },
  {
   "cell_type": "code",
   "execution_count": 66,
   "metadata": {},
   "outputs": [],
   "source": [
    "def RecursivePower(n,p):\n",
    "    '''\n",
    "    return value of n^p recursively;\n",
    "    '''\n",
    "    # code here\n",
    "    if p == 1:\n",
    "        return n\n",
    "    return n*(RecursivePower(n, p-1))"
   ]
  },
  {
   "cell_type": "code",
   "execution_count": 67,
   "metadata": {},
   "outputs": [
    {
     "output_type": "execute_result",
     "data": {
      "text/plain": [
       "32"
      ]
     },
     "metadata": {},
     "execution_count": 67
    }
   ],
   "source": [
    "RecursivePower(2, 5)"
   ]
  },
  {
   "cell_type": "code",
   "execution_count": null,
   "metadata": {},
   "outputs": [],
   "source": []
  }
 ]
}