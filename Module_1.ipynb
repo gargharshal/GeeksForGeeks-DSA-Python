{
  "nbformat": 4,
  "nbformat_minor": 0,
  "metadata": {
    "colab": {
      "name": "Module 1.ipynb",
      "provenance": [],
      "collapsed_sections": [],
      "toc_visible": true,
      "authorship_tag": "ABX9TyNoI+Hn4TQ9w9T3Z6cqtVcz",
      "include_colab_link": true
    },
    "kernelspec": {
      "name": "python3",
      "display_name": "Python 3"
    },
    "language_info": {
      "name": "python"
    }
  },
  "cells": [
    {
      "cell_type": "markdown",
      "metadata": {
        "id": "view-in-github",
        "colab_type": "text"
      },
      "source": [
        "<a href=\"https://colab.research.google.com/github/gargharshal/GeeksForGeeks-DSA-Python/blob/main/Module_1.ipynb\" target=\"_parent\"><img src=\"https://colab.research.google.com/assets/colab-badge.svg\" alt=\"Open In Colab\"/></a>"
      ]
    },
    {
      "cell_type": "markdown",
      "metadata": {
        "id": "KfwTg21owAQq"
      },
      "source": [
        "# Analysis of Algorithim\n",
        "\n",
        "## Analysis of Algorithim (Background)"
      ]
    },
    {
      "cell_type": "code",
      "metadata": {
        "colab": {
          "base_uri": "https://localhost:8080/"
        },
        "id": "WliiiyTrv6yl",
        "outputId": "1bbf83cb-1ec9-4160-81dd-789c896fda05"
      },
      "source": [
        "%%time \n",
        "# Sum of n natural number\n",
        "\n",
        "# Solution 1\n",
        "def sum_n_natural_numbers_1(n):\n",
        "  # order of growth - constant\n",
        "  return (n*(n+1)/2)\n",
        "\n",
        "print(sum_n_natural_numbers(5))"
      ],
      "execution_count": null,
      "outputs": [
        {
          "output_type": "stream",
          "text": [
            "15.0\n",
            "CPU times: user 79 µs, sys: 12 µs, total: 91 µs\n",
            "Wall time: 96.6 µs\n"
          ],
          "name": "stdout"
        }
      ]
    },
    {
      "cell_type": "code",
      "metadata": {
        "colab": {
          "base_uri": "https://localhost:8080/"
        },
        "id": "Zog5QIk5xUwN",
        "outputId": "f023110b-79b1-4973-b4a5-8af63aa56bba"
      },
      "source": [
        "%%time\n",
        "def sum_n_natural_numbers_2(n):\n",
        "  sum = 0\n",
        "  for i in range(1, n+1): \n",
        "    \"\"\"\n",
        "    there is no point to keep the first \n",
        "    value 0 as it will \n",
        "    unnecesarrily ran the loop one time extra \n",
        "    \"\"\"\n",
        "    sum += i\n",
        "  return sum\n",
        "\n",
        "print(sum_n_natural_numbers_2(5))   "
      ],
      "execution_count": null,
      "outputs": [
        {
          "output_type": "stream",
          "text": [
            "15\n",
            "CPU times: user 529 µs, sys: 0 ns, total: 529 µs\n",
            "Wall time: 466 µs\n"
          ],
          "name": "stdout"
        }
      ]
    },
    {
      "cell_type": "code",
      "metadata": {
        "colab": {
          "base_uri": "https://localhost:8080/"
        },
        "id": "JcPb_JCY1Vg2",
        "outputId": "4a00721b-a16d-4bf4-e986-ab18b53dba95"
      },
      "source": [
        "%%time\n",
        "def sum_n_natural_numbers_3(n):\n",
        "  sum = 0\n",
        "  for i in range(1, n+1): \n",
        "    for j in range(1, i+1):\n",
        "      sum += 1\n",
        "  return sum\n",
        "\n",
        "print(sum_n_natural_numbers_3(5))   "
      ],
      "execution_count": null,
      "outputs": [
        {
          "output_type": "stream",
          "text": [
            "15\n",
            "CPU times: user 908 µs, sys: 0 ns, total: 908 µs\n",
            "Wall time: 932 µs\n"
          ],
          "name": "stdout"
        }
      ]
    },
    {
      "cell_type": "markdown",
      "metadata": {
        "id": "VRXApes80fiQ"
      },
      "source": [
        "### Asymtotic Analysis\n",
        "- Theoritical Analysis\n",
        "- not dependent on Machine, programming language.\n",
        "- we do not need to implement all ideas/algorithim\n",
        "- it's about measuring order of growth in terms of input size\n",
        "\n",
        "### Order of growth \n",
        "- func1 = c1\n",
        "- func2 = c2*n + c3\n",
        "- func3 = c4*n^2 + c5*n + c6\n",
        "\n",
        "- Due to difference in machine, programming language and other factors these constant might differ\n"
      ]
    },
    {
      "cell_type": "markdown",
      "metadata": {
        "id": "o6USx5wm8epq"
      },
      "source": [
        "## Order of Growth\n"
      ]
    },
    {
      "cell_type": "markdown",
      "metadata": {
        "id": "h9vpSpBDhH_n"
      },
      "source": [
        "## Best, Average and Worst Cases"
      ]
    },
    {
      "cell_type": "code",
      "metadata": {
        "id": "gh3RJSGm4vab"
      },
      "source": [
        "def getSum(l): #takes the list\n",
        "  sum = 0\n",
        "  for x in l:\n",
        "    sum += x\n",
        "  return sum"
      ],
      "execution_count": null,
      "outputs": []
    },
    {
      "cell_type": "markdown",
      "metadata": {
        "id": "oZy6tfGrhuQ5"
      },
      "source": [
        "order of growth - `c1*n + c2` or linear"
      ]
    },
    {
      "cell_type": "code",
      "metadata": {
        "id": "PA-Cg8foh-ET"
      },
      "source": [
        "def getSumodd(l): #return sum of list if odd elements\n",
        "  if len(l)%2 == 0:\n",
        "    return 0\n",
        "  sum = 0\n",
        "  for x in l:\n",
        "    sum += x\n",
        "  return sum"
      ],
      "execution_count": null,
      "outputs": []
    },
    {
      "cell_type": "markdown",
      "metadata": {
        "id": "fRuOU90Gicsg"
      },
      "source": [
        "Order of growth is not fixed\n",
        "- Best case - constant\n",
        "- Worst case - linear\n",
        "- Average case - in this case the posibility of odd and even is same so average would be \n",
        "  - constant + linear = linear\n"
      ]
    },
    {
      "cell_type": "markdown",
      "metadata": {
        "id": "iJcExpdnjJOH"
      },
      "source": [
        "### Asymptotic Notation\n",
        "\n",
        "Most common representation \n",
        "- **Big O** - Represents exact or upper bound\n",
        "- **Theta** - Represents exact bound\n",
        "- **Omega** - Represents exact or lower bound\n",
        "\n",
        "Previous Example\n",
        "- Big O notation is - `O(n)` - Upper bound\n",
        "- cannot be represented in theta in one line, 2 case\n",
        "- omega notation is - `omega(1)`, - lower bound "
      ]
    },
    {
      "cell_type": "markdown",
      "metadata": {
        "id": "V5gkhsVzq4HG"
      },
      "source": [
        "## Big O Notation \n",
        "- Upper Bound or exact order of growth"
      ]
    },
    {
      "cell_type": "markdown",
      "metadata": {
        "id": "jPEOglrcMrNX"
      },
      "source": [
        "## Omega Notation \n",
        "- Lower or exact order of growth\n"
      ]
    },
    {
      "cell_type": "markdown",
      "metadata": {
        "id": "_TwZw-GbNMem"
      },
      "source": [
        "## Theta Notation \n",
        "- Exact order of growth (Upper and lower bound of the function)\n"
      ]
    },
    {
      "cell_type": "markdown",
      "metadata": {
        "id": "_NPnGylwNOAW"
      },
      "source": [
        "##  Analysis of Common loop\n",
        "\n",
        "Key Points\n",
        "- Highest complexity is considered final  \n",
        "- **Subsequent loops** - Values are added, eventually final is selected.  \n",
        "- **Nested loops** - Values are multiplied  \n",
        "- **Mixed loops**\n",
        "    - Nested and Subsequent\n",
        "    - find the indivisual complexity\n",
        "    - add them\n",
        "    - take the Highest value\n",
        "- **Multiple inputs**\n",
        "    - Mixed variables\n",
        "    - we have to condsider both the values, there is no other option\n",
        "- Examples"
      ]
    },
    {
      "cell_type": "code",
      "metadata": {
        "id": "_pl2d7jjQ9HU"
      },
      "source": [],
      "execution_count": null,
      "outputs": []
    }
  ]
}