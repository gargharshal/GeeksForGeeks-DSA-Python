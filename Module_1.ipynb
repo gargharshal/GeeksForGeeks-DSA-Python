{
  "nbformat": 4,
  "nbformat_minor": 0,
  "metadata": {
    "colab": {
      "name": "Module 1.ipynb",
      "provenance": [],
      "authorship_tag": "ABX9TyNUDfop/k54akdw+F9Tptmi",
      "include_colab_link": true
    },
    "kernelspec": {
      "name": "python3",
      "display_name": "Python 3"
    },
    "language_info": {
      "name": "python"
    }
  },
  "cells": [
    {
      "cell_type": "markdown",
      "metadata": {
        "id": "view-in-github",
        "colab_type": "text"
      },
      "source": [
        "<a href=\"https://colab.research.google.com/github/gargharshal/GeeksForGeeks-DSA-Python/blob/main/Module_1.ipynb\" target=\"_parent\"><img src=\"https://colab.research.google.com/assets/colab-badge.svg\" alt=\"Open In Colab\"/></a>"
      ]
    },
    {
      "cell_type": "markdown",
      "metadata": {
        "id": "KfwTg21owAQq"
      },
      "source": [
        "# Analysis of Algorithim\n",
        "\n",
        "## Analysis of Algorithim (Background)"
      ]
    },
    {
      "cell_type": "code",
      "metadata": {
        "colab": {
          "base_uri": "https://localhost:8080/"
        },
        "id": "WliiiyTrv6yl",
        "outputId": "1bbf83cb-1ec9-4160-81dd-789c896fda05"
      },
      "source": [
        "%%time \n",
        "# Sum of n natural number\n",
        "\n",
        "# Solution 1\n",
        "def sum_n_natural_numbers_1(n):\n",
        "  # order of growth - constant\n",
        "  return (n*(n+1)/2)\n",
        "\n",
        "print(sum_n_natural_numbers(5))"
      ],
      "execution_count": 21,
      "outputs": [
        {
          "output_type": "stream",
          "text": [
            "15.0\n",
            "CPU times: user 79 µs, sys: 12 µs, total: 91 µs\n",
            "Wall time: 96.6 µs\n"
          ],
          "name": "stdout"
        }
      ]
    },
    {
      "cell_type": "code",
      "metadata": {
        "colab": {
          "base_uri": "https://localhost:8080/"
        },
        "id": "Zog5QIk5xUwN",
        "outputId": "f023110b-79b1-4973-b4a5-8af63aa56bba"
      },
      "source": [
        "%%time\n",
        "def sum_n_natural_numbers_2(n):\n",
        "  sum = 0\n",
        "  for i in range(1, n+1): \n",
        "    \"\"\"\n",
        "    there is no point to keep the first \n",
        "    value 0 as it will \n",
        "    unnecesarrily ran the loop one time extra \n",
        "    \"\"\"\n",
        "    sum += i\n",
        "  return sum\n",
        "\n",
        "print(sum_n_natural_numbers_2(5))   "
      ],
      "execution_count": 22,
      "outputs": [
        {
          "output_type": "stream",
          "text": [
            "15\n",
            "CPU times: user 529 µs, sys: 0 ns, total: 529 µs\n",
            "Wall time: 466 µs\n"
          ],
          "name": "stdout"
        }
      ]
    },
    {
      "cell_type": "code",
      "metadata": {
        "colab": {
          "base_uri": "https://localhost:8080/"
        },
        "id": "JcPb_JCY1Vg2",
        "outputId": "4a00721b-a16d-4bf4-e986-ab18b53dba95"
      },
      "source": [
        "%%time\n",
        "def sum_n_natural_numbers_3(n):\n",
        "  sum = 0\n",
        "  for i in range(1, n+1): \n",
        "    for j in range(1, i+1):\n",
        "      sum += 1\n",
        "  return sum\n",
        "\n",
        "print(sum_n_natural_numbers_3(5))   "
      ],
      "execution_count": 23,
      "outputs": [
        {
          "output_type": "stream",
          "text": [
            "15\n",
            "CPU times: user 908 µs, sys: 0 ns, total: 908 µs\n",
            "Wall time: 932 µs\n"
          ],
          "name": "stdout"
        }
      ]
    },
    {
      "cell_type": "markdown",
      "metadata": {
        "id": "VRXApes80fiQ"
      },
      "source": [
        "### Asymtotic Analysis\n",
        "\n",
        "- order of growth - constant\n",
        "  - func1 = c1\n",
        "  - func2 = c2*n + c3\n",
        "  - func3 = c4*n^2 + c5*n + c6\n"
      ]
    },
    {
      "cell_type": "code",
      "metadata": {
        "id": "gybLlErVyb3I"
      },
      "source": [
        ""
      ],
      "execution_count": null,
      "outputs": []
    }
  ]
}