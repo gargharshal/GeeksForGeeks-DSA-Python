{
 "metadata": {
  "language_info": {
   "codemirror_mode": {
    "name": "ipython",
    "version": 3
   },
   "file_extension": ".py",
   "mimetype": "text/x-python",
   "name": "python",
   "nbconvert_exporter": "python",
   "pygments_lexer": "ipython3",
   "version": "3.8.8"
  },
  "orig_nbformat": 2,
  "kernelspec": {
   "name": "python388jvsc74a57bd0bf7f803c3cf389d271641452716cd22e8842a25a973c6285731a4e25d10f967d",
   "display_name": "Python 3.8.8 64-bit ('base': conda)"
  }
 },
 "nbformat": 4,
 "nbformat_minor": 2,
 "cells": [
  {
   "source": [
    "## Panagram\n",
    "\n",
    "A panagram contains all the letters of english alphabet at least once.  "
   ],
   "cell_type": "markdown",
   "metadata": {}
  },
  {
   "cell_type": "code",
   "execution_count": 12,
   "metadata": {},
   "outputs": [],
   "source": [
    "def isPanagram(s):\n",
    "    if len(s) < 26:\n",
    "        return False\n",
    "\n",
    "    s = s.upper()\n",
    "    count = [0]*26\n",
    "    for i in range(len(s)):\n",
    "        try:\n",
    "            count[ord(s[i]) - 65] +=1 \n",
    "        except IndexError:\n",
    "            pass\n",
    "    if all(count): # return true if all elements are True (greater than equal to 1 is true) \n",
    "        return True\n",
    "    return False"
   ]
  },
  {
   "source": [
    "## Anagram\n",
    "\n",
    "The two strings should have all the charaters same with count (order doesn't matter)"
   ],
   "cell_type": "markdown",
   "metadata": {}
  },
  {
   "cell_type": "code",
   "execution_count": 13,
   "metadata": {},
   "outputs": [],
   "source": [
    "def areAnagram(s1, s2):\n",
    "    if len(s1) != len(s2):\n",
    "        return False\n",
    "\n",
    "    count = [0]*256\n",
    "    for i in range(len(s1)):\n",
    "        count[ord(s1[i])] +=1 \n",
    "        count[ord(s2[i])] -=1 \n",
    "    \n",
    "    if any(count): # return true if any element is True (greater than equal to 1 is true) \n",
    "        return False\n",
    "    return True"
   ]
  },
  {
   "cell_type": "code",
   "execution_count": 14,
   "metadata": {},
   "outputs": [
    {
     "output_type": "execute_result",
     "data": {
      "text/plain": [
       "97"
      ]
     },
     "metadata": {},
     "execution_count": 14
    }
   ],
   "source": [
    "ord('a')"
   ]
  },
  {
   "cell_type": "code",
   "execution_count": 18,
   "metadata": {},
   "outputs": [
    {
     "output_type": "execute_result",
     "data": {
      "text/plain": [
       "True"
      ]
     },
     "metadata": {},
     "execution_count": 18
    }
   ],
   "source": [
    "isPanagram('Abcdefghijklmnopqrstuvwxyz')"
   ]
  },
  {
   "source": [],
   "cell_type": "markdown",
   "metadata": {}
  },
  {
   "cell_type": "code",
   "execution_count": 34,
   "metadata": {},
   "outputs": [],
   "source": [
    "def missingPanagram(s):\n",
    "    s = s.upper()\n",
    "    \n",
    "    count = [0]*26\n",
    "    \n",
    "    for i in range(len(s)):\n",
    "        count[ord(s[i]) - 65] +=1\n",
    "    if all(count):\n",
    "        return -1\n",
    "    l = [chr(i+97) for i, j in enumerate(count) if j == 0]\n",
    "    return \"\".join(l)"
   ]
  },
  {
   "cell_type": "code",
   "execution_count": 35,
   "metadata": {},
   "outputs": [
    {
     "output_type": "execute_result",
     "data": {
      "text/plain": [
       "'abcd'"
      ]
     },
     "metadata": {},
     "execution_count": 35
    }
   ],
   "source": [
    "missingPanagram('efghijklmnopqrstuvwxyz')"
   ]
  },
  {
   "cell_type": "code",
   "execution_count": 30,
   "metadata": {},
   "outputs": [
    {
     "output_type": "execute_result",
     "data": {
      "text/plain": [
       "'65'"
      ]
     },
     "metadata": {},
     "execution_count": 30
    }
   ],
   "source": [
    "str(65)"
   ]
  },
  {
   "cell_type": "code",
   "execution_count": null,
   "metadata": {},
   "outputs": [],
   "source": []
  }
 ]
}