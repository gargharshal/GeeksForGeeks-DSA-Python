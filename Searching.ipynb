{
 "metadata": {
  "language_info": {
   "codemirror_mode": {
    "name": "ipython",
    "version": 3
   },
   "file_extension": ".py",
   "mimetype": "text/x-python",
   "name": "python",
   "nbconvert_exporter": "python",
   "pygments_lexer": "ipython3",
   "version": "3.8.8"
  },
  "orig_nbformat": 4,
  "kernelspec": {
   "name": "python3",
   "display_name": "Python 3.8.8 64-bit ('base': conda)"
  },
  "interpreter": {
   "hash": "bf7f803c3cf389d271641452716cd22e8842a25a973c6285731a4e25d10f967d"
  }
 },
 "nbformat": 4,
 "nbformat_minor": 2,
 "cells": [
  {
   "source": [
    "## Binary Search\n",
    "Search the given terms in sorted array  \n",
    "-- Not able to understand fully"
   ],
   "cell_type": "markdown",
   "metadata": {}
  },
  {
   "cell_type": "code",
   "execution_count": 47,
   "metadata": {},
   "outputs": [],
   "source": [
    "# Loop \n",
    "def binarySearch(l, e):\n",
    "    high = len(l) - 1\n",
    "    low = 0\n",
    "    mid = (low + high)//2\n",
    "\n",
    "    while(low <= high):\n",
    "        mid = (low + high)//2\n",
    "        if l[mid] == e:\n",
    "            return mid\n",
    "        elif l[mid] > e:\n",
    "            high = mid - 1\n",
    "            continue\n",
    "        elif l[mid] < e:\n",
    "            low = mid + 1\n",
    "            continue\n",
    "    return -1"
   ]
  },
  {
   "cell_type": "code",
   "execution_count": 49,
   "metadata": {},
   "outputs": [
    {
     "output_type": "stream",
     "name": "stdout",
     "text": [
      "4\n"
     ]
    }
   ],
   "source": [
    "x = bs([0,1,2,3,4,5,6,7], 4)\n",
    "print(x)"
   ]
  },
  {
   "cell_type": "code",
   "execution_count": 60,
   "metadata": {},
   "outputs": [],
   "source": [
    "# Recurssion\n",
    "def binarySearch(l, e):\n",
    "    print(l)\n",
    "    if len(l) == 0:\n",
    "        return -1\n",
    "    high = len(l) - 1\n",
    "    low = 0\n",
    "    mid = (low + high)//2\n",
    "    if l[mid] == e:\n",
    "        return l[mid] \n",
    "    elif l[mid] > e:\n",
    "        return bs(l[:mid], e)\n",
    "    elif l[mid] < e:\n",
    "        return bs(l[mid+1:], e)\n"
   ]
  },
  {
   "cell_type": "code",
   "execution_count": 61,
   "metadata": {},
   "outputs": [
    {
     "output_type": "stream",
     "name": "stdout",
     "text": [
      "[3, 4, 5, 6, 7]\n[6, 7]\n[7]\n[]\n-1\n"
     ]
    }
   ],
   "source": [
    "x = binarySearch([3,4,5,6,7], 8)\n",
    "print(x)"
   ]
  },
  {
   "source": [
    "Return the index of first occurrence"
   ],
   "cell_type": "markdown",
   "metadata": {}
  },
  {
   "cell_type": "code",
   "execution_count": 3,
   "metadata": {},
   "outputs": [],
   "source": [
    "def firstOccurrence(l, x):\n",
    "    high = len(l) - 1\n",
    "    low = 0\n",
    "    mid = (low + high)//2\n",
    "    \n",
    "    while(low <= high):\n",
    "        mid = (low + high)//2\n",
    "        if l[mid] < x:\n",
    "            low = mid + 1\n",
    "        elif l[mid] > x:\n",
    "            high = mid - 1\n",
    "        else: #(when they are equal)\n",
    "            if l[mid - 1] != l[mid] or mid == 0:\n",
    "                return mid\n",
    "            else:\n",
    "                high = mid - 1\n",
    "    return -1"
   ]
  },
  {
   "cell_type": "code",
   "execution_count": 6,
   "metadata": {},
   "outputs": [
    {
     "output_type": "execute_result",
     "data": {
      "text/plain": [
       "4"
      ]
     },
     "metadata": {},
     "execution_count": 6
    }
   ],
   "source": [
    "firstOccurrence([3,3,3,3, 4,4,5,6,7], 4)"
   ]
  },
  {
   "cell_type": "code",
   "execution_count": 21,
   "metadata": {},
   "outputs": [],
   "source": [
    "def lastOccurrence(l, x):\n",
    "    high = len(l) - 1\n",
    "    low = 0\n",
    "    mid = (low + high)//2\n",
    "    \n",
    "    while(low <= high):\n",
    "        mid = (low + high)//2\n",
    "        if l[mid] < x:\n",
    "            low = mid + 1\n",
    "        elif l[mid] > x:\n",
    "            high = mid - 1\n",
    "        else: #(when they are equal)\n",
    "            if l[mid + 1] != l[mid] and mid == high:\n",
    "                return mid\n",
    "            else:\n",
    "                low = mid + 1"
   ]
  },
  {
   "cell_type": "code",
   "execution_count": 22,
   "metadata": {},
   "outputs": [
    {
     "output_type": "stream",
     "name": "stdout",
     "text": [
      "2\n1\n"
     ]
    },
    {
     "output_type": "execute_result",
     "data": {
      "text/plain": [
       "5"
      ]
     },
     "metadata": {},
     "execution_count": 22
    }
   ],
   "source": [
    "lastOccurrence([3,3,3,3, 4,4,5,6,7], 4)"
   ]
  },
  {
   "cell_type": "code",
   "execution_count": 8,
   "metadata": {},
   "outputs": [],
   "source": [
    "def countOccurence(l, x):\n",
    "    high = len(l) - 1\n",
    "    low = 0\n",
    "    mid = (low+high)//2\n",
    "\n",
    "    while(low<=high):\n",
    "        mid = (low+high)//2\n",
    "        if l[mid]<x:\n",
    "            low = mid + 1 \n",
    "        elif l[mid]>x:\n",
    "            high = mid + 1\n",
    "        else:\n",
    "            return mid\n",
    "    return -1\n",
    "    count = 0\n",
    "    i = mid\n",
    "    while(l[i] == x):\n",
    "        count+=1\n",
    "        i-=1\n",
    "    i = mid\n",
    "    while(l[i] == x):\n",
    "        count+=1\n",
    "        i+=1\n",
    "    return count"
   ]
  },
  {
   "cell_type": "code",
   "execution_count": 11,
   "metadata": {},
   "outputs": [
    {
     "output_type": "error",
     "ename": "KeyboardInterrupt",
     "evalue": "",
     "traceback": [
      "\u001b[1;31m---------------------------------------------------------------------------\u001b[0m",
      "\u001b[1;31mKeyboardInterrupt\u001b[0m                         Traceback (most recent call last)",
      "\u001b[1;32m<ipython-input-11-9d3577efd0fa>\u001b[0m in \u001b[0;36m<module>\u001b[1;34m\u001b[0m\n\u001b[1;32m----> 1\u001b[1;33m \u001b[0mcountOccurence\u001b[0m\u001b[1;33m(\u001b[0m\u001b[1;33m[\u001b[0m\u001b[1;36m1\u001b[0m\u001b[1;33m,\u001b[0m\u001b[1;36m2\u001b[0m\u001b[1;33m,\u001b[0m\u001b[1;36m3\u001b[0m\u001b[1;33m,\u001b[0m\u001b[1;36m4\u001b[0m\u001b[1;33m,\u001b[0m\u001b[1;36m6\u001b[0m\u001b[1;33m,\u001b[0m\u001b[1;36m7\u001b[0m\u001b[1;33m]\u001b[0m\u001b[1;33m,\u001b[0m \u001b[1;36m5\u001b[0m\u001b[1;33m)\u001b[0m\u001b[1;33m\u001b[0m\u001b[1;33m\u001b[0m\u001b[0m\n\u001b[0m",
      "\u001b[1;32m<ipython-input-8-a6a68e879b06>\u001b[0m in \u001b[0;36mcountOccurence\u001b[1;34m(l, x)\u001b[0m\n\u001b[0;32m      9\u001b[0m             \u001b[0mlow\u001b[0m \u001b[1;33m=\u001b[0m \u001b[0mmid\u001b[0m \u001b[1;33m+\u001b[0m \u001b[1;36m1\u001b[0m\u001b[1;33m\u001b[0m\u001b[1;33m\u001b[0m\u001b[0m\n\u001b[0;32m     10\u001b[0m         \u001b[1;32melif\u001b[0m \u001b[0ml\u001b[0m\u001b[1;33m[\u001b[0m\u001b[0mmid\u001b[0m\u001b[1;33m]\u001b[0m\u001b[1;33m>\u001b[0m\u001b[0mx\u001b[0m\u001b[1;33m:\u001b[0m\u001b[1;33m\u001b[0m\u001b[1;33m\u001b[0m\u001b[0m\n\u001b[1;32m---> 11\u001b[1;33m             \u001b[0mhigh\u001b[0m \u001b[1;33m=\u001b[0m \u001b[0mmid\u001b[0m \u001b[1;33m+\u001b[0m \u001b[1;36m1\u001b[0m\u001b[1;33m\u001b[0m\u001b[1;33m\u001b[0m\u001b[0m\n\u001b[0m\u001b[0;32m     12\u001b[0m         \u001b[1;32melse\u001b[0m\u001b[1;33m:\u001b[0m\u001b[1;33m\u001b[0m\u001b[1;33m\u001b[0m\u001b[0m\n\u001b[0;32m     13\u001b[0m             \u001b[1;32mreturn\u001b[0m \u001b[0mmid\u001b[0m\u001b[1;33m\u001b[0m\u001b[1;33m\u001b[0m\u001b[0m\n",
      "\u001b[1;31mKeyboardInterrupt\u001b[0m: "
     ]
    }
   ],
   "source": [
    "countOccurence([1,2,3,4,6,7], 5)"
   ]
  },
  {
   "cell_type": "code",
   "execution_count": 4,
   "metadata": {},
   "outputs": [],
   "source": [
    "def countOccurence(l, x):\n",
    "    high = len(l) - 1\n",
    "    low = 0\n",
    "    mid = (low+high)//2\n",
    "    occ = False\n",
    "    while(low<=high):\n",
    "        mid = (low+high)//2\n",
    "        if l[mid]<x:\n",
    "            low = mid + 1 \n",
    "        elif l[mid]>x:\n",
    "            high = mid + 1\n",
    "        else:\n",
    "            occ = True\n",
    "            break\n",
    "    # if occ :\n",
    "    #     return -1\n",
    "    # count = 0\n",
    "    # i = mid\n",
    "    # while(l[i] == x):\n",
    "    #     count+=1\n",
    "    #     i-=1\n",
    "    # i = mid\n",
    "    # while(l[i] == x):\n",
    "    #     count+=1\n",
    "    #     i+=1\n",
    "    # return count - 1\n"
   ]
  },
  {
   "cell_type": "code",
   "execution_count": 5,
   "metadata": {},
   "outputs": [
    {
     "output_type": "error",
     "ename": "KeyboardInterrupt",
     "evalue": "",
     "traceback": [
      "\u001b[1;31m---------------------------------------------------------------------------\u001b[0m",
      "\u001b[1;31mKeyboardInterrupt\u001b[0m                         Traceback (most recent call last)",
      "\u001b[1;32m<ipython-input-5-24b801bec761>\u001b[0m in \u001b[0;36m<module>\u001b[1;34m\u001b[0m\n\u001b[1;32m----> 1\u001b[1;33m \u001b[0mprint\u001b[0m\u001b[1;33m(\u001b[0m\u001b[0mcountOccurence\u001b[0m\u001b[1;33m(\u001b[0m\u001b[1;33m[\u001b[0m\u001b[1;36m1\u001b[0m\u001b[1;33m,\u001b[0m\u001b[1;36m2\u001b[0m\u001b[1;33m,\u001b[0m\u001b[1;36m3\u001b[0m\u001b[1;33m,\u001b[0m\u001b[1;36m4\u001b[0m\u001b[1;33m,\u001b[0m\u001b[1;36m6\u001b[0m\u001b[1;33m,\u001b[0m\u001b[1;36m7\u001b[0m\u001b[1;33m]\u001b[0m\u001b[1;33m,\u001b[0m \u001b[1;36m4\u001b[0m\u001b[1;33m)\u001b[0m\u001b[1;33m)\u001b[0m\u001b[1;33m\u001b[0m\u001b[1;33m\u001b[0m\u001b[0m\n\u001b[0m",
      "\u001b[1;32m<ipython-input-4-b69746820a76>\u001b[0m in \u001b[0;36mcountOccurence\u001b[1;34m(l, x)\u001b[0m\n\u001b[0;32m      9\u001b[0m             \u001b[0mlow\u001b[0m \u001b[1;33m=\u001b[0m \u001b[0mmid\u001b[0m \u001b[1;33m+\u001b[0m \u001b[1;36m1\u001b[0m\u001b[1;33m\u001b[0m\u001b[1;33m\u001b[0m\u001b[0m\n\u001b[0;32m     10\u001b[0m         \u001b[1;32melif\u001b[0m \u001b[0ml\u001b[0m\u001b[1;33m[\u001b[0m\u001b[0mmid\u001b[0m\u001b[1;33m]\u001b[0m\u001b[1;33m>\u001b[0m\u001b[0mx\u001b[0m\u001b[1;33m:\u001b[0m\u001b[1;33m\u001b[0m\u001b[1;33m\u001b[0m\u001b[0m\n\u001b[1;32m---> 11\u001b[1;33m             \u001b[0mhigh\u001b[0m \u001b[1;33m=\u001b[0m \u001b[0mmid\u001b[0m \u001b[1;33m+\u001b[0m \u001b[1;36m1\u001b[0m\u001b[1;33m\u001b[0m\u001b[1;33m\u001b[0m\u001b[0m\n\u001b[0m\u001b[0;32m     12\u001b[0m         \u001b[1;32melse\u001b[0m\u001b[1;33m:\u001b[0m\u001b[1;33m\u001b[0m\u001b[1;33m\u001b[0m\u001b[0m\n\u001b[0;32m     13\u001b[0m             \u001b[0mocc\u001b[0m \u001b[1;33m=\u001b[0m \u001b[1;32mTrue\u001b[0m\u001b[1;33m\u001b[0m\u001b[1;33m\u001b[0m\u001b[0m\n",
      "\u001b[1;31mKeyboardInterrupt\u001b[0m: "
     ]
    }
   ],
   "source": [
    "\n",
    "print(countOccurence([1,2,3,4,6,7], 4))"
   ]
  },
  {
   "cell_type": "code",
   "execution_count": null,
   "metadata": {},
   "outputs": [],
   "source": []
  }
 ]
}